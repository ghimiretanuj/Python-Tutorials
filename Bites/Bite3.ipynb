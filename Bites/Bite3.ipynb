{
  "cells": [
    {
      "cell_type": "markdown",
      "id": "d4c4a25e-ff26-45ca-a8b1-f1cd5e80ee4d",
      "metadata": {
        "id": "d4c4a25e-ff26-45ca-a8b1-f1cd5e80ee4d"
      },
      "source": [
        "# Bite 3: if statements in python"
      ]
    },
    {
      "cell_type": "code",
      "source": [],
      "metadata": {
        "id": "iuLWqRc8Ca36"
      },
      "id": "iuLWqRc8Ca36",
      "execution_count": null,
      "outputs": []
    },
    {
      "cell_type": "markdown",
      "id": "32f25524-ce63-429d-a320-e94f8cd793ed",
      "metadata": {
        "id": "32f25524-ce63-429d-a320-e94f8cd793ed"
      },
      "source": [
        "[![Open in Colab](https://colab.research.google.com/assets/colab-badge.svg)](https://colab.research.google.com/github/Curbal-Data-Labs/python-bites/blob/main/Bites/Bite3.ipynb)"
      ]
    },
    {
      "cell_type": "markdown",
      "id": "fa38cd98-1543-4daa-a1f2-44630dff1a4d",
      "metadata": {
        "id": "fa38cd98-1543-4daa-a1f2-44630dff1a4d"
      },
      "source": [
        "### Video tutorial and Bite 3 available [here](https://curbal.com/curbal-learning-portal/bite-3)"
      ]
    },
    {
      "cell_type": "markdown",
      "id": "480bdaf1-c9e6-4ca4-9668-d7b25f86f4db",
      "metadata": {
        "id": "480bdaf1-c9e6-4ca4-9668-d7b25f86f4db"
      },
      "source": [
        "[![Bite 1](https://img.youtube.com/vi/yLtxa0dgtQs/0.jpg)](https://www.youtube.com/watch?v=yLtxa0dgtQs)"
      ]
    },
    {
      "cell_type": "markdown",
      "id": "fbc7418b-79e6-445c-b2b6-6406db43fa65",
      "metadata": {
        "id": "fbc7418b-79e6-445c-b2b6-6406db43fa65"
      },
      "source": [
        "**1.** Ask users if they want to accept the crime challenge and save the answer (yes or no) on a \"Accept_challenge\" variable"
      ]
    },
    {
      "cell_type": "code",
      "execution_count": null,
      "id": "6804f963-8efb-4ddc-b6c1-cd4039e4817e",
      "metadata": {
        "id": "6804f963-8efb-4ddc-b6c1-cd4039e4817e"
      },
      "outputs": [],
      "source": []
    },
    {
      "cell_type": "markdown",
      "id": "5bd6046c-5851-4803-a4eb-f7f6bef0cfd5",
      "metadata": {
        "id": "5bd6046c-5851-4803-a4eb-f7f6bef0cfd5"
      },
      "source": [
        "**2.** If they accept the challenge ask for their name and store in on \"Participant\" variable and say hi, otherwise say bye, bye."
      ]
    },
    {
      "cell_type": "code",
      "execution_count": null,
      "id": "e35b4e31-1b89-4272-bb28-f9132cae708f",
      "metadata": {
        "id": "e35b4e31-1b89-4272-bb28-f9132cae708f"
      },
      "outputs": [],
      "source": []
    },
    {
      "cell_type": "markdown",
      "id": "80e278c8-eb63-4e96-a441-e8af44cb23b2",
      "metadata": {
        "id": "80e278c8-eb63-4e96-a441-e8af44cb23b2"
      },
      "source": [
        "# Bite 3: Do you want to accept the crime challenge?"
      ]
    },
    {
      "cell_type": "code",
      "execution_count": null,
      "id": "482d7366-7333-46c8-a9e3-19c4b68c8976",
      "metadata": {
        "id": "482d7366-7333-46c8-a9e3-19c4b68c8976"
      },
      "outputs": [],
      "source": []
    }
  ],
  "metadata": {
    "kernelspec": {
      "display_name": "Python 3 (ipykernel)",
      "language": "python",
      "name": "python3"
    },
    "language_info": {
      "codemirror_mode": {
        "name": "ipython",
        "version": 3
      },
      "file_extension": ".py",
      "mimetype": "text/x-python",
      "name": "python",
      "nbconvert_exporter": "python",
      "pygments_lexer": "ipython3",
      "version": "3.9.12"
    },
    "colab": {
      "provenance": []
    }
  },
  "nbformat": 4,
  "nbformat_minor": 5
}