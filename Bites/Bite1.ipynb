{
  "cells": [
    {
      "cell_type": "markdown",
      "metadata": {
        "id": "view-in-github",
        "colab_type": "text"
      },
      "source": [
        "<a href=\"https://colab.research.google.com/github/ghimiretanuj/SPFx/blob/main/Bites/Bite1.ipynb\" target=\"_parent\"><img src=\"https://colab.research.google.com/assets/colab-badge.svg\" alt=\"Open In Colab\"/></a>"
      ]
    },
    {
      "cell_type": "markdown",
      "id": "312580f7-0344-4557-bb2f-2e5f99fa762c",
      "metadata": {
        "id": "312580f7-0344-4557-bb2f-2e5f99fa762c"
      },
      "source": [
        "# Practice 1: Print, user input, variables"
      ]
    },
    {
      "cell_type": "markdown",
      "id": "8127bd7a-558a-4f9b-b7ea-b2db2ff18443",
      "metadata": {
        "id": "8127bd7a-558a-4f9b-b7ea-b2db2ff18443"
      },
      "source": [
        "[![Open in Colab](https://colab.research.google.com/assets/colab-badge.svg)](https://colab.research.google.com/github/Curbal-Data-Labs/python-bites/blob/main/Bites/Bite1.ipynb)"
      ]
    },
    {
      "cell_type": "markdown",
      "id": "671378a6-b28c-4387-9136-4d27580c4c69",
      "metadata": {
        "id": "671378a6-b28c-4387-9136-4d27580c4c69"
      },
      "source": [
        "### Video tutorial and Bite 1 available [here](https://curbal.com/curbal-learning-portal/bite-1 )"
      ]
    },
    {
      "cell_type": "markdown",
      "id": "aef26688-fff6-412d-a078-0abcd6ce06c7",
      "metadata": {
        "id": "aef26688-fff6-412d-a078-0abcd6ce06c7"
      },
      "source": [
        "[![Bite 1](https://img.youtube.com/vi/OGqoUGCmqj4/0.jpg)](https://www.youtube.com/watch?v=OGqoUGCmqj4)"
      ]
    },
    {
      "cell_type": "markdown",
      "id": "b8e31ed3-e915-4f84-b44a-26298563e350",
      "metadata": {
        "id": "b8e31ed3-e915-4f84-b44a-26298563e350"
      },
      "source": [
        "**1.** Print \"Hello World! using pyhon and two different string denotations"
      ]
    },
    {
      "cell_type": "code",
      "execution_count": 3,
      "id": "9e03b1af-49aa-4659-8480-40a9b9e9b877",
      "metadata": {
        "colab": {
          "base_uri": "https://localhost:8080/"
        },
        "id": "9e03b1af-49aa-4659-8480-40a9b9e9b877",
        "outputId": "1a96a00b-5709-4265-b26d-3042dc762f3f"
      },
      "outputs": [
        {
          "output_type": "stream",
          "name": "stdout",
          "text": [
            "Hello World\n",
            "Hello World\n"
          ]
        }
      ],
      "source": [
        "print(\"Hello World\")\n",
        "print('Hello World')"
      ]
    },
    {
      "cell_type": "markdown",
      "id": "a4e370e4-d36c-4ae1-9e59-9d656c4ddc93",
      "metadata": {
        "tags": [],
        "id": "a4e370e4-d36c-4ae1-9e59-9d656c4ddc93"
      },
      "source": [
        "**2.** Print multiline text"
      ]
    },
    {
      "cell_type": "code",
      "execution_count": 4,
      "id": "8418deda-4d17-4cc6-9282-8907dcdda743",
      "metadata": {
        "colab": {
          "base_uri": "https://localhost:8080/"
        },
        "id": "8418deda-4d17-4cc6-9282-8907dcdda743",
        "outputId": "46414c3a-2e3d-48e6-ecad-80ff782db6b4"
      },
      "outputs": [
        {
          "output_type": "stream",
          "name": "stdout",
          "text": [
            "My name is Tanuj\n",
            "and I am a Nepalese national\n",
            "who works in UN\n"
          ]
        }
      ],
      "source": [
        "print(\"My name is Tanuj\")\n",
        "print('and I am a Nepalese national')\n",
        "print (\"who works in UN\")"
      ]
    },
    {
      "cell_type": "code",
      "source": [
        "print(\"My name is Tanuj\"\n",
        "\"\\nand I am a Nepalese national\"\n",
        "\"\\nwho works in UN\")"
      ],
      "metadata": {
        "colab": {
          "base_uri": "https://localhost:8080/"
        },
        "id": "jjdehg-l_jPh",
        "outputId": "994689bb-db74-4776-e1ad-0c9d9ee11e0b"
      },
      "id": "jjdehg-l_jPh",
      "execution_count": 9,
      "outputs": [
        {
          "output_type": "stream",
          "name": "stdout",
          "text": [
            "My name is Tanuj\n",
            "and I am a Nepalese national\n",
            "who works in UN\n"
          ]
        }
      ]
    },
    {
      "cell_type": "markdown",
      "id": "590c0c92-66b6-4b8d-93ba-cbd35d695c75",
      "metadata": {
        "id": "590c0c92-66b6-4b8d-93ba-cbd35d695c75"
      },
      "source": [
        "**3.** Ask the user for their name"
      ]
    },
    {
      "cell_type": "code",
      "execution_count": 10,
      "id": "5ebd716c-7f9e-47db-ab91-416254aa8d5a",
      "metadata": {
        "colab": {
          "base_uri": "https://localhost:8080/",
          "height": 53
        },
        "id": "5ebd716c-7f9e-47db-ab91-416254aa8d5a",
        "outputId": "285e07eb-3aa6-40f6-d197-a76668d284eb"
      },
      "outputs": [
        {
          "name": "stdout",
          "output_type": "stream",
          "text": [
            "What is your Name?Tanuj\n"
          ]
        },
        {
          "output_type": "execute_result",
          "data": {
            "text/plain": [
              "'Tanuj'"
            ],
            "application/vnd.google.colaboratory.intrinsic+json": {
              "type": "string"
            }
          },
          "metadata": {},
          "execution_count": 10
        }
      ],
      "source": [
        "input(\"What is your Name?\")"
      ]
    },
    {
      "cell_type": "markdown",
      "id": "c05fa08a-9b5a-485c-9470-cce1ac47a402",
      "metadata": {
        "id": "c05fa08a-9b5a-485c-9470-cce1ac47a402"
      },
      "source": [
        "**4.** Store user input in a variable called \"Username\""
      ]
    },
    {
      "cell_type": "code",
      "execution_count": 2,
      "id": "b6870e01-dc73-4722-82db-a5fc4375451b",
      "metadata": {
        "colab": {
          "base_uri": "https://localhost:8080/"
        },
        "id": "b6870e01-dc73-4722-82db-a5fc4375451b",
        "outputId": "3802f19f-9f23-4aa0-9464-89bd5138cec8"
      },
      "outputs": [
        {
          "name": "stdout",
          "output_type": "stream",
          "text": [
            "What is your Name?Tanuj\n"
          ]
        }
      ],
      "source": [
        "username = input(\"What is your Name?\")"
      ]
    },
    {
      "cell_type": "markdown",
      "id": "cbeaec34-2327-4b5b-8024-212894538dc6",
      "metadata": {
        "id": "cbeaec34-2327-4b5b-8024-212894538dc6"
      },
      "source": [
        "**5.** Print the username variable"
      ]
    },
    {
      "cell_type": "code",
      "execution_count": 13,
      "id": "2efed9bb-d50b-4dab-9ddd-9a1a34fc8d1a",
      "metadata": {
        "colab": {
          "base_uri": "https://localhost:8080/",
          "height": 36
        },
        "id": "2efed9bb-d50b-4dab-9ddd-9a1a34fc8d1a",
        "outputId": "bbaa73fb-e45d-47ca-a3d5-edd294924c41"
      },
      "outputs": [
        {
          "output_type": "execute_result",
          "data": {
            "text/plain": [
              "'Tanuj'"
            ],
            "application/vnd.google.colaboratory.intrinsic+json": {
              "type": "string"
            }
          },
          "metadata": {},
          "execution_count": 13
        }
      ],
      "source": [
        "username"
      ]
    },
    {
      "cell_type": "markdown",
      "id": "9af5088f-27c3-446c-8fa7-60ff0baca411",
      "metadata": {
        "id": "9af5088f-27c3-446c-8fa7-60ff0baca411"
      },
      "source": [
        "**6.** Concatenate text and variables to print: Hello (Username), nice to meet you :)"
      ]
    },
    {
      "cell_type": "code",
      "execution_count": 3,
      "id": "17b93a27-024c-41e5-9820-73bfb2d5b5a7",
      "metadata": {
        "colab": {
          "base_uri": "https://localhost:8080/"
        },
        "id": "17b93a27-024c-41e5-9820-73bfb2d5b5a7",
        "outputId": "86087815-68c3-4640-d768-358fe738fdfa"
      },
      "outputs": [
        {
          "output_type": "stream",
          "name": "stdout",
          "text": [
            "Hello Tanuj, Nice to meet you.\n"
          ]
        }
      ],
      "source": [
        "print(\"Hello \" +username+ \", Nice to meet you.\")"
      ]
    },
    {
      "cell_type": "markdown",
      "id": "6c25ffbe-254a-4589-b205-cd3910bca674",
      "metadata": {
        "id": "6c25ffbe-254a-4589-b205-cd3910bca674"
      },
      "source": [
        "# Bite 1: Create a program that ask for the user name and greets them back "
      ]
    },
    {
      "cell_type": "markdown",
      "id": "052704af-6284-4291-be0f-cc0d4aba9298",
      "metadata": {
        "id": "052704af-6284-4291-be0f-cc0d4aba9298"
      },
      "source": [
        "Check the program [here.](https://curbal.com/curbal-learning-portal/bite-1)"
      ]
    },
    {
      "cell_type": "code",
      "execution_count": 1,
      "id": "91bae4fe-2a64-4c03-a371-63cb83ee8a56",
      "metadata": {
        "colab": {
          "base_uri": "https://localhost:8080/"
        },
        "id": "91bae4fe-2a64-4c03-a371-63cb83ee8a56",
        "outputId": "b5b3d26e-bd1e-4e9c-90b4-e2f179efd0a0"
      },
      "outputs": [
        {
          "output_type": "stream",
          "name": "stdout",
          "text": [
            "What is your Name?\n",
            "Tanuj\n",
            "\n",
            "Hello Tanuj, Nice to meet you. :)\n"
          ]
        }
      ],
      "source": [
        "username = input(\"What is your Name?\\n\")\n",
        "print(\"\\nHello \" +username+ \", Nice to meet you. :)\")"
      ]
    },
    {
      "cell_type": "code",
      "source": [],
      "metadata": {
        "id": "duxNmYj5J6u3"
      },
      "id": "duxNmYj5J6u3",
      "execution_count": null,
      "outputs": []
    }
  ],
  "metadata": {
    "kernelspec": {
      "display_name": "Python 3 (ipykernel)",
      "language": "python",
      "name": "python3"
    },
    "language_info": {
      "codemirror_mode": {
        "name": "ipython",
        "version": 3
      },
      "file_extension": ".py",
      "mimetype": "text/x-python",
      "name": "python",
      "nbconvert_exporter": "python",
      "pygments_lexer": "ipython3",
      "version": "3.9.12"
    },
    "colab": {
      "provenance": [],
      "include_colab_link": true
    }
  },
  "nbformat": 4,
  "nbformat_minor": 5
}