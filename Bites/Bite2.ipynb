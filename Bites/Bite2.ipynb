{
  "cells": [
    {
      "cell_type": "markdown",
      "id": "36d47814-1681-4474-8e80-89c1796e7ca5",
      "metadata": {
        "tags": [],
        "id": "36d47814-1681-4474-8e80-89c1796e7ca5"
      },
      "source": [
        "# Bite 2: Functions, global and local variables"
      ]
    },
    {
      "cell_type": "markdown",
      "id": "e659c78e-eb23-4c83-8f3b-a40aadbb3efa",
      "metadata": {
        "id": "e659c78e-eb23-4c83-8f3b-a40aadbb3efa"
      },
      "source": [
        "[![Open in Colab](https://colab.research.google.com/assets/colab-badge.svg)](https://colab.research.google.com/github/Curbal-Data-Labs/python-bites/blob/main/Bites/Bite2.ipynb)"
      ]
    },
    {
      "cell_type": "markdown",
      "id": "80183e82-de50-4867-8661-d41e6a03fb57",
      "metadata": {
        "id": "80183e82-de50-4867-8661-d41e6a03fb57"
      },
      "source": [
        "### Video tutorial and Bite 2 available [here](https://curbal.com/curbal-learning-portal/bite-2 )"
      ]
    },
    {
      "cell_type": "markdown",
      "id": "aa5bca8c-7655-463c-82a4-3599b95edd90",
      "metadata": {
        "id": "aa5bca8c-7655-463c-82a4-3599b95edd90"
      },
      "source": [
        "[![Bite 1](https://img.youtube.com/vi/rmR5IjJLFAk/0.jpg)](https://www.youtube.com/watch?v=rmR5IjJLFAk)"
      ]
    },
    {
      "cell_type": "markdown",
      "id": "1b737dc8-12cf-4989-b936-7e00534a36b4",
      "metadata": {
        "id": "1b737dc8-12cf-4989-b936-7e00534a36b4"
      },
      "source": [
        "**1.** Define a function called my_function that will print the user's name"
      ]
    },
    {
      "cell_type": "code",
      "execution_count": null,
      "id": "9e09f82f-c25a-4953-9205-755d47437036",
      "metadata": {
        "id": "9e09f82f-c25a-4953-9205-755d47437036"
      },
      "outputs": [],
      "source": []
    },
    {
      "cell_type": "markdown",
      "id": "cd815bd3-6e6d-49e6-a6f8-19ab8cf2aa52",
      "metadata": {
        "id": "cd815bd3-6e6d-49e6-a6f8-19ab8cf2aa52"
      },
      "source": [
        "**2.** Execute the function"
      ]
    },
    {
      "cell_type": "code",
      "execution_count": null,
      "id": "acf5c333-f1d2-42c2-bc0e-59b6b1b953f9",
      "metadata": {
        "id": "acf5c333-f1d2-42c2-bc0e-59b6b1b953f9"
      },
      "outputs": [],
      "source": []
    },
    {
      "cell_type": "markdown",
      "id": "5ec48761-4332-4306-9b2d-6f7832cdb7b3",
      "metadata": {
        "id": "5ec48761-4332-4306-9b2d-6f7832cdb7b3"
      },
      "source": [
        "**3.** Create a function where you can input the name of the user and execute it"
      ]
    },
    {
      "cell_type": "code",
      "execution_count": null,
      "id": "f663893e-c5a2-4839-abd3-9041e556fdcb",
      "metadata": {
        "id": "f663893e-c5a2-4839-abd3-9041e556fdcb"
      },
      "outputs": [],
      "source": []
    },
    {
      "cell_type": "markdown",
      "id": "80c92d95-26ec-4b42-8bdd-dd6dabf2c274",
      "metadata": {
        "id": "80c92d95-26ec-4b42-8bdd-dd6dabf2c274"
      },
      "source": [
        "# Global and local variables"
      ]
    },
    {
      "cell_type": "markdown",
      "id": "e50b8b81-65a7-49e8-9b02-47cfbfc9a12d",
      "metadata": {
        "id": "e50b8b81-65a7-49e8-9b02-47cfbfc9a12d"
      },
      "source": [
        "**4.** Create a function that ask the user for their name, stores it in a variable called \"Participant\""
      ]
    },
    {
      "cell_type": "code",
      "execution_count": null,
      "id": "c5015083-67e0-4bbd-9638-96364f3d08ba",
      "metadata": {
        "id": "c5015083-67e0-4bbd-9638-96364f3d08ba"
      },
      "outputs": [],
      "source": []
    },
    {
      "cell_type": "markdown",
      "id": "755040c2-141d-4d83-bea4-0c55d0d7a805",
      "metadata": {
        "id": "755040c2-141d-4d83-bea4-0c55d0d7a805"
      },
      "source": [
        "**5.** Execute it and print the user name"
      ]
    },
    {
      "cell_type": "code",
      "execution_count": null,
      "id": "3d4b2774-57be-4806-a567-8e383c7b2051",
      "metadata": {
        "id": "3d4b2774-57be-4806-a567-8e383c7b2051"
      },
      "outputs": [],
      "source": []
    },
    {
      "cell_type": "markdown",
      "id": "5bf44e00-a961-4942-ab1d-4265f9fb5028",
      "metadata": {
        "id": "5bf44e00-a961-4942-ab1d-4265f9fb5028"
      },
      "source": [
        "# Bite 2"
      ]
    },
    {
      "cell_type": "code",
      "execution_count": null,
      "id": "989c41ec-5e9e-4f2f-b932-0e8c00ae7b38",
      "metadata": {
        "id": "989c41ec-5e9e-4f2f-b932-0e8c00ae7b38"
      },
      "outputs": [],
      "source": [
        "\n",
        "\n"
      ]
    }
  ],
  "metadata": {
    "kernelspec": {
      "display_name": "Python 3 (ipykernel)",
      "language": "python",
      "name": "python3"
    },
    "language_info": {
      "codemirror_mode": {
        "name": "ipython",
        "version": 3
      },
      "file_extension": ".py",
      "mimetype": "text/x-python",
      "name": "python",
      "nbconvert_exporter": "python",
      "pygments_lexer": "ipython3",
      "version": "3.9.12"
    },
    "colab": {
      "provenance": []
    }
  },
  "nbformat": 4,
  "nbformat_minor": 5
}